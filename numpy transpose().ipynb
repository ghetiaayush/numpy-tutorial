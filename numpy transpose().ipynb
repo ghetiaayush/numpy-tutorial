{
 "cells": [
  {
   "cell_type": "code",
   "execution_count": 1,
   "metadata": {},
   "outputs": [
    {
     "data": {
      "text/plain": [
       "(array([[0, 1, 2],\n",
       "        [3, 4, 5]]),\n",
       " array([[0, 3],\n",
       "        [1, 4],\n",
       "        [2, 5]]))"
      ]
     },
     "execution_count": 1,
     "metadata": {},
     "output_type": "execute_result"
    }
   ],
   "source": [
    "#example 1: numpy.transpose()\n",
    "import numpy as np  \n",
    "a= np.arange(6).reshape((2,3))  \n",
    "a  \n",
    "b=np.transpose(a)  \n",
    "a, b  "
   ]
  },
  {
   "cell_type": "code",
   "execution_count": 2,
   "metadata": {},
   "outputs": [
    {
     "data": {
      "text/plain": [
       "(array([[1, 2],\n",
       "        [4, 5],\n",
       "        [7, 8]]),\n",
       " array([[1, 4, 7],\n",
       "        [2, 5, 8]]))"
      ]
     },
     "execution_count": 2,
     "metadata": {},
     "output_type": "execute_result"
    }
   ],
   "source": [
    "#example 2: numpy.transpose() with axis\n",
    "import numpy as np  \n",
    "a= np.array([[1, 2], [4, 5], [7, 8]])  \n",
    "a  \n",
    "b=np.transpose(a, (1,0))  \n",
    "a, b   "
   ]
  },
  {
   "cell_type": "code",
   "execution_count": 7,
   "metadata": {},
   "outputs": [
    {
     "data": {
      "text/plain": [
       "((32, 64, 12, 123), (12, 64, 32, 123))"
      ]
     },
     "execution_count": 7,
     "metadata": {},
     "output_type": "execute_result"
    }
   ],
   "source": [
    "#example 3: Reposition elements using numpy.transpose()\n",
    "import numpy as np  \n",
    "a=np.ones((12,32,123,64))  \n",
    "b=np.transpose(a,(1,3,0,2)).shape  \n",
    "c=np.transpose(a,(0,3,1,2)).shape  \n",
    "b, c  "
   ]
  }
 ],
 "metadata": {
  "kernelspec": {
   "display_name": "Python 3",
   "language": "python",
   "name": "python3"
  },
  "language_info": {
   "codemirror_mode": {
    "name": "ipython",
    "version": 3
   },
   "file_extension": ".py",
   "mimetype": "text/x-python",
   "name": "python",
   "nbconvert_exporter": "python",
   "pygments_lexer": "ipython3",
   "version": "3.8.3"
  }
 },
 "nbformat": 4,
 "nbformat_minor": 4
}
