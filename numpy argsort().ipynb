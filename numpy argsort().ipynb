{
 "cells": [
  {
   "cell_type": "code",
   "execution_count": 3,
   "metadata": {},
   "outputs": [
    {
     "data": {
      "text/plain": [
       "(array([456,  11,  63]), array([1, 2, 0], dtype=int64))"
      ]
     },
     "execution_count": 3,
     "metadata": {},
     "output_type": "execute_result"
    }
   ],
   "source": [
    "#example 1: np.argsort()\n",
    "import numpy as np  \n",
    "a=np.array([456,11,63])  \n",
    "a  \n",
    "b=np.argsort(a)  \n",
    "a, b  "
   ]
  },
  {
   "cell_type": "code",
   "execution_count": 4,
   "metadata": {},
   "outputs": [
    {
     "data": {
      "text/plain": [
       "array([[0, 1],\n",
       "       [1, 0]], dtype=int64)"
      ]
     },
     "execution_count": 4,
     "metadata": {},
     "output_type": "execute_result"
    }
   ],
   "source": [
    "#example 2: For 2-D array( sorts along first axis (down))\n",
    "import numpy as np  \n",
    "a = np.array([[0, 5], [3, 2]])  \n",
    "indices = np.argsort(a, axis=0)    \n",
    "indices  "
   ]
  },
  {
   "cell_type": "code",
   "execution_count": 12,
   "metadata": {},
   "outputs": [
    {
     "data": {
      "text/plain": [
       "(array([[0, 1],\n",
       "        [1, 0]], dtype=int64),\n",
       " array([[0, 2],\n",
       "        [3, 5]]))"
      ]
     },
     "execution_count": 12,
     "metadata": {},
     "output_type": "execute_result"
    }
   ],
   "source": [
    "#example 3: For 2-D array(alternative of axis=0)\n",
    "import numpy as np  \n",
    "a = np.array([[0, 5], [3, 2]])  \n",
    "indices = np.argsort(a, axis=0)  \n",
    "indices,  np.take_along_axis(a, indices, axis=0)  "
   ]
  },
  {
   "cell_type": "code",
   "execution_count": 6,
   "metadata": {},
   "outputs": [
    {
     "data": {
      "text/plain": [
       "array([[0, 1],\n",
       "       [1, 0]], dtype=int64)"
      ]
     },
     "execution_count": 6,
     "metadata": {},
     "output_type": "execute_result"
    }
   ],
   "source": [
    "#example 4: For 2-D array( sorts along last axis (across))\n",
    "import numpy as np  \n",
    "a = np.array([[0, 5], [3, 2]])  \n",
    "indices = np.argsort(a, axis=1)    \n",
    "indices  "
   ]
  },
  {
   "cell_type": "code",
   "execution_count": 10,
   "metadata": {},
   "outputs": [
    {
     "data": {
      "text/plain": [
       "(array([[0, 1],\n",
       "        [1, 0]], dtype=int64),\n",
       " array([[0, 5],\n",
       "        [2, 3]]))"
      ]
     },
     "execution_count": 10,
     "metadata": {},
     "output_type": "execute_result"
    }
   ],
   "source": [
    "#example 5: For 2-D array(alternative of axis=1)\n",
    "import numpy as np  \n",
    "a = np.array([[0, 5], [3, 2]])  \n",
    "indices = np.argsort(a, axis=1)  \n",
    "indices, np.take_along_axis(a, indices, axis=1) "
   ]
  },
  {
   "cell_type": "code",
   "execution_count": 9,
   "metadata": {},
   "outputs": [
    {
     "data": {
      "text/plain": [
       "((array([0, 1, 1, 0], dtype=int64), array([0, 1, 0, 1], dtype=int64)),\n",
       " array([0, 2, 3, 5]))"
      ]
     },
     "execution_count": 9,
     "metadata": {},
     "output_type": "execute_result"
    }
   ],
   "source": [
    "#example 6: For N-D array\n",
    "import numpy as np  \n",
    "a = np.array([[0, 5], [3, 2]])  \n",
    "indices = np.unravel_index(np.argsort(a, axis=None), a.shape)  \n",
    "indices, a[indices]  # same as np.sort(a, axis=None)  "
   ]
  },
  {
   "cell_type": "code",
   "execution_count": 14,
   "metadata": {},
   "outputs": [
    {
     "data": {
      "text/plain": [
       "(array([(0, 5), (3, 2)], dtype=[('x', '<i4'), ('y', '<i4')]),\n",
       " array([0, 1], dtype=int64),\n",
       " array([1, 0], dtype=int64))"
      ]
     },
     "execution_count": 14,
     "metadata": {},
     "output_type": "execute_result"
    }
   ],
   "source": [
    "#example 7: Sorting with keys\n",
    "import numpy as np  \n",
    "a= np.array([(0, 5), (3, 2)], dtype=[('x', '<i4'), ('y', '<i4')])  \n",
    "b=np.argsort(a, order=('x','y'))  \n",
    "c=np.argsort(a, order=('y','x'))  \n",
    "a, b, c  "
   ]
  }
 ],
 "metadata": {
  "kernelspec": {
   "display_name": "Python 3",
   "language": "python",
   "name": "python3"
  },
  "language_info": {
   "codemirror_mode": {
    "name": "ipython",
    "version": 3
   },
   "file_extension": ".py",
   "mimetype": "text/x-python",
   "name": "python",
   "nbconvert_exporter": "python",
   "pygments_lexer": "ipython3",
   "version": "3.8.3"
  }
 },
 "nbformat": 4,
 "nbformat_minor": 4
}
