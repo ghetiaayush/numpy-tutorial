{
 "cells": [
  {
   "cell_type": "code",
   "execution_count": 4,
   "metadata": {},
   "outputs": [
    {
     "data": {
      "text/plain": [
       "array([[0.88657155, 0.18998526],\n",
       "       [0.56383175, 0.26259872],\n",
       "       [0.16256689, 0.6164178 ],\n",
       "       [0.4587564 , 0.80731044],\n",
       "       [0.29511592, 0.71907645]])"
      ]
     },
     "execution_count": 4,
     "metadata": {},
     "output_type": "execute_result"
    }
   ],
   "source": [
    "#there is some example of Simple random data\n",
    "# p.random.rand(d0, d1, ..., dn)\n",
    "#This function of random module is used to generate random numbers or values in a given shape.\n",
    "import numpy as np  \n",
    "a=np.random.rand(5,2)  \n",
    "a  "
   ]
  },
  {
   "cell_type": "code",
   "execution_count": 2,
   "metadata": {},
   "outputs": [
    {
     "data": {
      "text/plain": [
       "array([[-0.20271617,  1.42159479],\n",
       "       [ 0.34801176, -0.73186959]])"
      ]
     },
     "execution_count": 2,
     "metadata": {},
     "output_type": "execute_result"
    }
   ],
   "source": [
    "# np.random.randn(d0, d1, ..., dn)\n",
    "#This function of random module return a sample from the \"standard normal\" distribution.\n",
    "import numpy as np  \n",
    "a=np.random.randn(2,2)  \n",
    "a  "
   ]
  },
  {
   "cell_type": "code",
   "execution_count": 3,
   "metadata": {},
   "outputs": [
    {
     "data": {
      "text/plain": [
       "array([2, 0, 2, 0, 1, 0, 2, 2, 2, 0])"
      ]
     },
     "execution_count": 3,
     "metadata": {},
     "output_type": "execute_result"
    }
   ],
   "source": [
    "# np.random.randint(low[, high, size, dtype])\n",
    "#This function of random module is used to generate random integers from inclusive(low) to exclusive(high).\n",
    "import numpy as np  \n",
    "a=np.random.randint(3, size=10)  \n",
    "a  "
   ]
  },
  {
   "cell_type": "code",
   "execution_count": 6,
   "metadata": {},
   "outputs": [
    {
     "data": {
      "text/plain": [
       "array([[0, 0],\n",
       "       [1, 3],\n",
       "       [2, 1]])"
      ]
     },
     "execution_count": 6,
     "metadata": {},
     "output_type": "execute_result"
    }
   ],
   "source": [
    "# np.random.random_integers(low[, high, size])\n",
    "#This function of random module is used to generate random integers number of type np.int between low and high.\n",
    "import numpy as np  \n",
    "a=np.random.randint(3)  \n",
    "a  \n",
    "b=type(np.random.randint(3))  \n",
    "b  \n",
    "c=np.random.randint(5, size=(3,2))  \n",
    "c  "
   ]
  },
  {
   "cell_type": "code",
   "execution_count": 7,
   "metadata": {},
   "outputs": [
    {
     "data": {
      "text/plain": [
       "array([0.9185407 , 0.95590806, 0.80418083, 0.68313612, 0.85093712])"
      ]
     },
     "execution_count": 7,
     "metadata": {},
     "output_type": "execute_result"
    }
   ],
   "source": [
    "# np.random.random_sample([size])\n",
    "#This function of random module is used to generate random floats number in the half-open interval [0.0, 1.0).\n",
    "import numpy as np  \n",
    "a=np.random.random_sample()  \n",
    "a  \n",
    "b=type(np.random.random_sample())  \n",
    "b  \n",
    "c=np.random.random_sample((5,))  \n",
    "c "
   ]
  },
  {
   "cell_type": "code",
   "execution_count": 11,
   "metadata": {},
   "outputs": [
    {
     "data": {
      "text/plain": [
       "array([0.31285806, 0.13319797, 0.07060386, 0.76514672, 0.32754381])"
      ]
     },
     "execution_count": 11,
     "metadata": {},
     "output_type": "execute_result"
    }
   ],
   "source": [
    "# np.random.random([size])\n",
    "#This function of random module is used to generate random floats number in the half-open interval [0.0, 1.0).\n",
    "import numpy as np  \n",
    "a=np.random.random()  \n",
    "a  \n",
    "b=type(np.random.random())  \n",
    "b  \n",
    "c=np.random.random((5,))  \n",
    "c "
   ]
  },
  {
   "cell_type": "code",
   "execution_count": 12,
   "metadata": {},
   "outputs": [
    {
     "data": {
      "text/plain": [
       "array([0.02194689, 0.90231229, 0.61804818, 0.00221896, 0.97816045])"
      ]
     },
     "execution_count": 12,
     "metadata": {},
     "output_type": "execute_result"
    }
   ],
   "source": [
    "# np.random.ranf([size])\n",
    "#This function of random module is used to generate random floats number in the half-open interval [0.0, 1.0).\n",
    "import numpy as np  \n",
    "a=np.random.ranf()  \n",
    "a  \n",
    "b=type(np.random.ranf())  \n",
    "b  \n",
    "c=np.random.ranf((5,))  \n",
    "c  "
   ]
  },
  {
   "cell_type": "code",
   "execution_count": 13,
   "metadata": {},
   "outputs": [
    {
     "data": {
      "text/plain": [
       "array([0.71262773, 0.26296786, 0.6881914 , 0.23299877, 0.27637461])"
      ]
     },
     "execution_count": 13,
     "metadata": {},
     "output_type": "execute_result"
    }
   ],
   "source": [
    "# np.random.sample([size])\n",
    "#This function of random module is used to generate random floats number in the half-open interval [0.0, 1.0).\n",
    "import numpy as np  \n",
    "a=np.random.sample()  \n",
    "a  \n",
    "b=type(np.random.sample())  \n",
    "b  \n",
    "c=np.random.sample((5,))  \n",
    "c  "
   ]
  },
  {
   "cell_type": "code",
   "execution_count": 15,
   "metadata": {},
   "outputs": [
    {
     "data": {
      "text/plain": [
       "array([3, 2, 3])"
      ]
     },
     "execution_count": 15,
     "metadata": {},
     "output_type": "execute_result"
    }
   ],
   "source": [
    "# np.random.choice(a[, size, replace, p])\n",
    "#This function of random module is used to generate random sample from a given 1-D array.\n",
    "import numpy as np  \n",
    "a=np.random.choice(5,3)  \n",
    "a  \n",
    "b=np.random.choice(5,3, p=[0.2, 0.1, 0.4, 0.2, 0.1])  \n",
    "b  "
   ]
  },
  {
   "cell_type": "code",
   "execution_count": 18,
   "metadata": {},
   "outputs": [
    {
     "data": {
      "text/plain": [
       "b'\\xe1(k/.\\xe4\\x83\\xc0\\xbf'"
      ]
     },
     "execution_count": 18,
     "metadata": {},
     "output_type": "execute_result"
    }
   ],
   "source": [
    "# np.random.bytes(length)\n",
    "#This function of random module is used to generate random bytes.\n",
    "import numpy as np  \n",
    "a=np.random.bytes(9)  \n",
    "a  "
   ]
  },
  {
   "cell_type": "code",
   "execution_count": 19,
   "metadata": {},
   "outputs": [],
   "source": [
    "                                                                                # Permutations #"
   ]
  },
  {
   "cell_type": "code",
   "execution_count": 21,
   "metadata": {},
   "outputs": [
    {
     "data": {
      "text/plain": [
       "array([ 3,  8,  2, 10, 11,  0,  4,  6,  7,  1,  5,  9])"
      ]
     },
     "execution_count": 21,
     "metadata": {},
     "output_type": "execute_result"
    }
   ],
   "source": [
    "# np.random.shuffle()\n",
    "#This function is used for modifying a sequence in-place by shuffling its contents.\n",
    "import numpy as np  \n",
    "a=np.arange(12)  \n",
    "np.random.shuffle(a)  \n",
    "a  "
   ]
  },
  {
   "cell_type": "code",
   "execution_count": 22,
   "metadata": {},
   "outputs": [
    {
     "data": {
      "text/plain": [
       "array([ 3,  2,  9,  7,  6,  0,  1, 11,  4,  8, 10,  5])"
      ]
     },
     "execution_count": 22,
     "metadata": {},
     "output_type": "execute_result"
    }
   ],
   "source": [
    "# np.random.permutation()\n",
    "#This function permute a sequence randomly or return a permuted range.\n",
    "import numpy as np  \n",
    "a=np.random.permutation(12)  \n",
    "a  "
   ]
  },
  {
   "cell_type": "code",
   "execution_count": 23,
   "metadata": {},
   "outputs": [],
   "source": [
    "                                                                                # Distributions #"
   ]
  },
  {
   "cell_type": "code",
   "execution_count": 24,
   "metadata": {},
   "outputs": [],
   "source": [
    "# beta(a, b[, size])\n",
    "#This function is used to draw samples from a Beta distribution.\n",
    "def setup(self):  \n",
    "        self.dist = dist.beta  \n",
    "        self.cargs = []  \n",
    "        self.ckwd = dict(alpha=2, beta=3)  \n",
    "        self.np_rand_fxn = numpy.random.beta  \n",
    "        self.np_args = [2, 3]  \n",
    "        self.np_kwds = dict()  "
   ]
  },
  {
   "cell_type": "code",
   "execution_count": 25,
   "metadata": {},
   "outputs": [
    {
     "data": {
      "text/plain": [
       "array([6, 3, 5, 7, 5, 4, 4, 6, 6, 6])"
      ]
     },
     "execution_count": 25,
     "metadata": {},
     "output_type": "execute_result"
    }
   ],
   "source": [
    "# binomial(n, p[, size])\n",
    "#This function is used to draw sample from a binomial distribution.\n",
    "import numpy as np  \n",
    "n, p = 10, .6  \n",
    "s1= np.random.binomial(n, p, 10)  \n",
    "s1"
   ]
  },
  {
   "cell_type": "code",
   "execution_count": 26,
   "metadata": {},
   "outputs": [
    {
     "data": {
      "text/plain": [
       "0.3871"
      ]
     },
     "execution_count": 26,
     "metadata": {},
     "output_type": "execute_result"
    }
   ],
   "source": [
    "# chisquare(df[, size])\n",
    "#This function is used to draw sample from a binomial distribution.\n",
    "import numpy as np  \n",
    "np.random.chisquare(2,4)  \n",
    "sum(np.random.binomial(9, 0.1, 20000) == 0)/20000. "
   ]
  },
  {
   "cell_type": "code",
   "execution_count": 27,
   "metadata": {},
   "outputs": [
    {
     "data": {
      "image/png": "[encoded data removed]",
      "text/plain": [
       "<Figure size 432x288 with 1 Axes>"
      ]
     },
     "metadata": {
      "needs_background": "light"
     },
     "output_type": "display_data"
    }
   ],
   "source": [
    "# dirichlet(alpha[, size])\n",
    "#This function is used to draw a sample from the Dirichlet distribution.\n",
    "import numpy as np  \n",
    "import matplotlib.pyplot as plt  \n",
    "s1 = np.random.dirichlet((10, 5, 3), 20).transpose()  \n",
    "plt.barh(range(20), s1[0])  \n",
    "plt.barh(range(20), s1[1], left=s1[0], color='g')  \n",
    "plt.barh(range(20), s1[2], left=s1[0]+s1[1], color='r')  \n",
    "plt.title(\"Lengths of Strings\")  \n",
    "plt.show()"
   ]
  },
  {
   "cell_type": "code",
   "execution_count": 28,
   "metadata": {},
   "outputs": [],
   "source": [
    "# exponential([scale, size])\n",
    "#This function is used to draw sample from an exponential distribution.\n",
    "def __init__(self, sourceid, targetid):  \n",
    "        self.__type = 'Transaction'  \n",
    "        self.id = uuid4()  \n",
    "        self.source = sourceid  \n",
    "        self.target = targetid  \n",
    "        self.date = self._datetime.date(start=2015, end=2019)  \n",
    "        self.time = self._datetime.time()  \n",
    "  \n",
    "        if random() < 0.05:  \n",
    "            self.amount = self._numbers.between(100000, 1000000)  \n",
    "        self.amount = npr.exponential(10)  \n",
    "  \n",
    "        if random() < 0.15:  \n",
    "            self.currency = self._business.currency_iso_code()  \n",
    "        else:  \n",
    "            self.currency = None "
   ]
  },
  {
   "cell_type": "code",
   "execution_count": 1,
   "metadata": {},
   "outputs": [
    {
     "data": {
      "text/plain": [
       "array([1.32003281e-06, 3.01264520e-04, 1.30469328e-03, 2.67951899e-03,\n",
       "       4.93056652e-03, 4.58585647e-02, 3.14240277e-01, 4.02840853e-01,\n",
       "       6.26355905e-01, 6.36647831e-01])"
      ]
     },
     "execution_count": 1,
     "metadata": {},
     "output_type": "execute_result"
    }
   ],
   "source": [
    "# f(dfnum, dfden[, size])\n",
    "#This function is used to draw sample from an F distribution.\n",
    "import numpy as np  \n",
    "dfno= 1.  \n",
    "dfden = 48.  \n",
    "s1 = np.random.f(dfno, dfden, 10)  \n",
    "np.sort(s1)  "
   ]
  },
  {
   "cell_type": "code",
   "execution_count": 2,
   "metadata": {},
   "outputs": [
    {
     "data": {
      "image/png": "[encoded data removed]",
      "text/plain": [
       "<Figure size 432x288 with 1 Axes>"
      ]
     },
     "metadata": {
      "needs_background": "light"
     },
     "output_type": "display_data"
    }
   ],
   "source": [
    "# gamma(shape[, scale, size])\n",
    "#This function is used to draw sample from a Gamma distribution\n",
    "import numpy as np\n",
    "shape, scale = 2., 2.  \n",
    "s1 = np.random.gamma(shape, scale, 1000)  \n",
    "import matplotlib.pyplot as plt  \n",
    "import scipy.special as spss  \n",
    "count, bins, ignored = plt.hist(s1, 50, density=True)  \n",
    "a = bins**(shape-1)*(np.exp(-bins/scale) /  \n",
    "(spss.gamma(shape)*scale**shape))  \n",
    "plt.plot(bins, a, linewidth=2, color='r')  \n",
    "plt.show()  "
   ]
  },
  {
   "cell_type": "code",
   "execution_count": 3,
   "metadata": {},
   "outputs": [
    {
     "data": {
      "text/plain": [
       "5.552"
      ]
     },
     "execution_count": 3,
     "metadata": {},
     "output_type": "execute_result"
    }
   ],
   "source": [
    "# geometric(p[, size])\n",
    "#This function is used to draw sample from a geometric distribution.\n",
    "import numpy as np\n",
    "a = np.random.geometric(p=0.55, size=10000)  \n",
    "(a == 1).sum() / 1000  "
   ]
  },
  {
   "cell_type": "code",
   "execution_count": 22,
   "metadata": {},
   "outputs": [
    {
     "data": {
      "image/png": "[encoded data removed]",
      "text/plain": [
       "<Figure size 432x288 with 1 Axes>"
      ]
     },
     "metadata": {
      "needs_background": "light"
     },
     "output_type": "display_data"
    }
   ],
   "source": [
    "# gumbel([loc, scale, size])\n",
    "#This function is used to draw sample from a Gumble distribution.\n",
    "import numpy as np\n",
    "mu, beta = 0, 0.1 # location and scale\n",
    "s = np.random.gumbel(mu, beta, 1000)\n",
    "import matplotlib.pyplot as plt\n",
    "count, bins, ignored = plt.hist(s, 30, density=True)\n",
    "plt.plot(bins, (1/beta)*np.exp(-(bins - mu)/beta)\n",
    "         * np.exp( -np.exp( -(bins - mu) /beta) ),\n",
    "         linewidth=2, color='r')\n",
    "plt.show()"
   ]
  },
  {
   "cell_type": "code",
   "execution_count": 10,
   "metadata": {},
   "outputs": [
    {
     "data": {
      "image/png": "[encoded data removed]",
      "text/plain": [
       "<Figure size 432x288 with 1 Axes>"
      ]
     },
     "metadata": {
      "needs_background": "light"
     },
     "output_type": "display_data"
    }
   ],
   "source": [
    "#hypergeometric(ngood, nbad, nsample[, size])\n",
    "#This function is used to draw sample from a Hypergeometric distribution.\n",
    "import numpy as np  \n",
    "good, bad, samp = 100, 2, 10  \n",
    "s1 = np.random.hypergeometric(good, bad, samp, 1000)  \n",
    "plt.hist(s1)  \n",
    "plt.show()  "
   ]
  },
  {
   "cell_type": "code",
   "execution_count": 11,
   "metadata": {},
   "outputs": [
    {
     "data": {
      "text/plain": [
       "array([ 3.85237733, -1.73423896, -1.21935472, -0.91794716,  0.06085508,\n",
       "       -0.44853044,  0.26488502,  3.34306912, -0.19901936,  2.44602994])"
      ]
     },
     "execution_count": 11,
     "metadata": {},
     "output_type": "execute_result"
    }
   ],
   "source": [
    "#laplace([loc, scale, size])\n",
    "#This function is used to draw sample from the Laplace or double exponential distribution with specified location and scale.\n",
    "\n",
    "import numpy as np  \n",
    "location, scale = 0., 2.  \n",
    "scale = np.random.laplace(location, scale, 10)  \n",
    "scale  "
   ]
  },
  {
   "cell_type": "code",
   "execution_count": 12,
   "metadata": {},
   "outputs": [
    {
     "data": {
      "image/png": "[encoded data removed]",
      "text/plain": [
       "<Figure size 432x288 with 1 Axes>"
      ]
     },
     "metadata": {
      "needs_background": "light"
     },
     "output_type": "display_data"
    }
   ],
   "source": [
    "# logistic([loc, scale, size])\n",
    "#This function is used to draw sample from logistic distribution.\n",
    "\n",
    "import numpy as np  \n",
    "import matplotlib.pyplot as plt  \n",
    "location, scale = 10, 1  \n",
    "s1 = np.random.logistic(location, scale, 10000)  \n",
    "count, bins, ignored = plt.hist(s1, bins=50)  \n",
    "count  \n",
    "bins  \n",
    "ignored  \n",
    "plt.show()  "
   ]
  },
  {
   "cell_type": "code",
   "execution_count": 13,
   "metadata": {},
   "outputs": [
    {
     "data": {
      "image/png": "[encoded data removed]",
      "text/plain": [
       "<Figure size 432x288 with 1 Axes>"
      ]
     },
     "metadata": {
      "needs_background": "light"
     },
     "output_type": "display_data"
    }
   ],
   "source": [
    "#lognormal([mean, sigma, size])\n",
    "#This function is used to draw sample from a log-normal distribution.\n",
    "import matplotlib.pyplot as plt \n",
    "import numpy as np  \n",
    "mu, sigma = 2., 1.  \n",
    "s1 = np.random.lognormal(mu, sigma, 1000)  \n",
    " count, bins, ignored = plt.hist(s1, 100, density=True, align='mid')  \n",
    "a = np.linspace(min(bins), max(bins), 10000)  \n",
    "pdf = (np.exp(-(np.log(a) - mu)**2 / (2 * sigma**2))/ (a * sigma * np.sqrt(2 * np.pi)))  \n",
    "plt.plot(a, pdf, linewidth=2, color='r')  \n",
    "plt.axis('tight')  \n",
    "plt.show()  "
   ]
  },
  {
   "cell_type": "code",
   "execution_count": 19,
   "metadata": {},
   "outputs": [
    {
     "data": {
      "image/png": "[encoded data removed]",
      "text/plain": [
       "<Figure size 432x288 with 1 Axes>"
      ]
     },
     "metadata": {
      "needs_background": "light"
     },
     "output_type": "display_data"
    }
   ],
   "source": [
    "#logseries(p[, size])\n",
    "#This function is used to draw sample from a logarithmic distribution.\n",
    "import matplotlib.pyplot as plt \n",
    "import numpy as np  \n",
    "a = .6\n",
    "s = np.random.logseries(a, 10000)\n",
    "count, bins, ignored = plt.hist(s)\n",
    "def logseries(k, p):\n",
    "    return -p**k/(k*np.log(1-p))\n",
    "plt.plot(bins, logseries(bins, a)*count.max()/\n",
    "         logseries(bins, a).max(), 'r')\n",
    "plt.show()"
   ]
  },
  {
   "cell_type": "code",
   "execution_count": 23,
   "metadata": {},
   "outputs": [
    {
     "data": {
      "text/plain": [
       "array([[2, 3, 4, 6, 3, 2]])"
      ]
     },
     "execution_count": 23,
     "metadata": {},
     "output_type": "execute_result"
    }
   ],
   "source": [
    "#multinomial(n, pvals[, size])\n",
    "#This function is used to draw sample from a multinomial distribution.\n",
    "\n",
    "import numpy as np  \n",
    "np.random.multinomial(20, [1/6.]*6, size=1)  "
   ]
  },
  {
   "cell_type": "code",
   "execution_count": 26,
   "metadata": {},
   "outputs": [
    {
     "data": {
      "image/png": "[encoded data removed]",
      "text/plain": [
       "<Figure size 432x288 with 1 Axes>"
      ]
     },
     "metadata": {
      "needs_background": "light"
     },
     "output_type": "display_data"
    }
   ],
   "source": [
    "#multivariate_normal(mean, cov[, size, ...)\n",
    "#This function is used to draw sample from a multivariate normal distribution.\n",
    "\n",
    "import numpy as np  \n",
    "mean = [0, 0]\n",
    "cov = [[1, 0], [0, 100]]  # diagonal covariance\n",
    "import matplotlib.pyplot as plt\n",
    "x, y = np.random.multivariate_normal(mean, cov, 5000).T\n",
    "plt.plot(x, y, 'x')\n",
    "plt.axis('equal')\n",
    "plt.show()"
   ]
  },
  {
   "cell_type": "code",
   "execution_count": 32,
   "metadata": {},
   "outputs": [
    {
     "name": "stdout",
     "output_type": "stream",
     "text": [
      "1 wells drilled, probability of one success = 0.09916\n",
      "2 wells drilled, probability of one success = 0.19021\n",
      "3 wells drilled, probability of one success = 0.2734\n",
      "4 wells drilled, probability of one success = 0.34518\n",
      "5 wells drilled, probability of one success = 0.41144\n",
      "6 wells drilled, probability of one success = 0.47122\n",
      "7 wells drilled, probability of one success = 0.52345\n",
      "8 wells drilled, probability of one success = 0.57117\n",
      "9 wells drilled, probability of one success = 0.61442\n"
     ]
    }
   ],
   "source": [
    "# negative_binomial(n, p[, size])\n",
    "#This function is used to draw sample from a negative binomial distribution.\n",
    "\n",
    "import numpy as np  \n",
    "s = np.random.negative_binomial(1, 0.1, 100000)\n",
    "for i in range(1, 10): \n",
    "   probability = sum(s<i) / 100000.\n",
    "   print(i, \"wells drilled, probability of one success =\", probability)"
   ]
  },
  {
   "cell_type": "code",
   "execution_count": 34,
   "metadata": {},
   "outputs": [
    {
     "data": {
      "image/png": "[encoded data removed]",
      "text/plain": [
       "<Figure size 432x288 with 1 Axes>"
      ]
     },
     "metadata": {
      "needs_background": "light"
     },
     "output_type": "display_data"
    }
   ],
   "source": [
    "#noncentral_chisquare(df, nonc[, size])\n",
    "#This function is used to draw sample from a noncentral chi-square distribution.\n",
    "import numpy as np  \n",
    "import matplotlib.pyplot as plt  \n",
    "values = plt.hist(np.random.noncentral_chisquare(3, 20, 100000),\n",
    "                  bins=200, density=True)\n",
    "plt.show() "
   ]
  },
  {
   "cell_type": "code",
   "execution_count": 35,
   "metadata": {},
   "outputs": [
    {
     "data": {
      "image/png": "[encoded data removed]",
      "text/plain": [
       "<Figure size 432x288 with 1 Axes>"
      ]
     },
     "metadata": {
      "needs_background": "light"
     },
     "output_type": "display_data"
    }
   ],
   "source": [
    "#noncentral_chisquare(df, nonc[, size]) example 2:\n",
    "#This function is used to draw sample from a noncentral chi-square distribution.\n",
    "import numpy as np  \n",
    "import matplotlib.pyplot as plt\n",
    "values = plt.hist(np.random.noncentral_chisquare(3, .0000001, 100000),\n",
    "                  bins=np.arange(0., 25, .1), density=True)\n",
    "values2 = plt.hist(np.random.chisquare(3, 100000),\n",
    "                   bins=np.arange(0., 25, .1), density=True)\n",
    "plt.plot(values[1][0:-1], values[0]-values2[0], 'ob')\n",
    "plt.show()"
   ]
  },
  {
   "cell_type": "code",
   "execution_count": 36,
   "metadata": {},
   "outputs": [
    {
     "data": {
      "image/png": "[encoded data removed]",
      "text/plain": [
       "<Figure size 432x288 with 1 Axes>"
      ]
     },
     "metadata": {
      "needs_background": "light"
     },
     "output_type": "display_data"
    }
   ],
   "source": [
    "#normal([loc, scale, size])\n",
    "#This function is used to draw sample from a normal distribution.\n",
    "\n",
    "import numpy as np  \n",
    "import matplotlib.pyplot as plt  \n",
    "mu, sigma = 0, 0.2 # mean and standard deviation  \n",
    "s1 = np.random.normal(mu, sigma, 1000)  \n",
    "abs(mu - np.mean(s1)) < 0.01  \n",
    "abs(sigma - np.std(s1, ddof=1)) < 0.01  \n",
    "count, bins, ignored = plt.hist(s1, 30, density=True)  \n",
    "plt.plot(bins, 1/(sigma * np.sqrt(2 * np.pi)) *np.exp( - (bins - mu)**2 / (2 * sigma**2) ), linewidth=2, color='r')  \n",
    "plt.show()  "
   ]
  },
  {
   "cell_type": "code",
   "execution_count": 39,
   "metadata": {},
   "outputs": [
    {
     "data": {
      "image/png": "[encoded data removed]",
      "text/plain": [
       "<Figure size 432x288 with 1 Axes>"
      ]
     },
     "metadata": {
      "needs_background": "light"
     },
     "output_type": "display_data"
    }
   ],
   "source": [
    "#pareto(a[, size])\n",
    "#This function is used to draw samples from a Lomax or Pareto II with specified shape.\n",
    "\n",
    "import numpy as np  \n",
    "import matplotlib.pyplot as plt  \n",
    "b, m = 3., 2.  # shape and mode  \n",
    "s1 = (np.random.pareto(b, 1000) + 1) * m  \n",
    "count, bins, _ = plt.hist(s1, 100, density=True)  \n",
    "fit = b*m**b / bins**(b+1)  \n",
    "plt.plot(bins, max(count)*fit/max(fit), linewidth=2, color='r')  \n",
    "plt.show()  "
   ]
  },
  {
   "cell_type": "code",
   "execution_count": 40,
   "metadata": {},
   "outputs": [
    {
     "data": {
      "image/png": "[encoded data removed]",
      "text/plain": [
       "<Figure size 432x288 with 1 Axes>"
      ]
     },
     "metadata": {
      "needs_background": "light"
     },
     "output_type": "display_data"
    }
   ],
   "source": [
    "#power(a[, size])\n",
    "#This function is used to draw samples in [0, 1] from a power distribution with positive exponent a-1.\n",
    "import numpy as np  \n",
    "x = 5. # shape  \n",
    "samples = 1000  \n",
    "s1 = np.random.power(x, samples)  \n",
    "import matplotlib.pyplot as plt  \n",
    "count, bins, ignored = plt.hist(s1, bins=30)  \n",
    "a = np.linspace(0, 1, 100)  \n",
    "b = x*a**(x-1.)  \n",
    "density_b = samples*np.diff(bins)[0]*b  \n",
    "plt.plot(a, density_b)  \n",
    "plt.show()  "
   ]
  },
  {
   "cell_type": "code",
   "execution_count": 43,
   "metadata": {},
   "outputs": [
    {
     "data": {
      "text/plain": [
       "0.0919"
      ]
     },
     "execution_count": 43,
     "metadata": {},
     "output_type": "execute_result"
    },
    {
     "data": {
      "image/png": "[encoded data removed]",
      "text/plain": [
       "<Figure size 432x288 with 1 Axes>"
      ]
     },
     "metadata": {
      "needs_background": "light"
     },
     "output_type": "display_data"
    }
   ],
   "source": [
    "import matplotlib.pyplot\n",
    "from matplotlib.pyplot import hist\n",
    "values = hist(np.random.rayleigh(3, 100000), bins=200, density=True)\n",
    "meanval = 1  \n",
    "modeval = np.sqrt(2 / np.pi) * meanval  \n",
    "s1 = np.random.rayleigh(modeval, 1000000)  \n",
    "100.*sum(s1>3)/1000000."
   ]
  },
  {
   "cell_type": "code",
   "execution_count": 44,
   "metadata": {},
   "outputs": [
    {
     "data": {
      "image/png": "[encoded data removed]",
      "text/plain": [
       "<Figure size 432x288 with 1 Axes>"
      ]
     },
     "metadata": {
      "needs_background": "light"
     },
     "output_type": "display_data"
    }
   ],
   "source": [
    "#standard_cauchy([size])\n",
    "#This function is used to draw sample from a standard Cauchy distribution with mode=0.\n",
    "\n",
    "import numpy as np  \n",
    "import matplotlib.pyplot as plt  \n",
    "s1 = np.random.standard_cauchy(1000000)  \n",
    "s1 = s1[(s1>-25) & (s1<25)]  # truncate distribution so it plots well  \n",
    "plt.hist(s1, bins=100)  \n",
    "plt.show()  "
   ]
  },
  {
   "cell_type": "code",
   "execution_count": 46,
   "metadata": {},
   "outputs": [
    {
     "data": {
      "text/plain": [
       "array([[1.72351295, 0.16365146, 0.00968871, ..., 0.38989934, 2.221558  ,\n",
       "        0.81590683],\n",
       "       [0.40507677, 0.20853269, 0.61326852, ..., 0.35639517, 1.77942558,\n",
       "        0.17403756]])"
      ]
     },
     "execution_count": 46,
     "metadata": {},
     "output_type": "execute_result"
    }
   ],
   "source": [
    "#standard_exponential([size])\n",
    "#This function is used to draw sample from a standard exponential distribution.\n",
    "\n",
    "import numpy as np  \n",
    "n = np.random.standard_exponential((2, 7000))  \n",
    "n"
   ]
  },
  {
   "cell_type": "code",
   "execution_count": 47,
   "metadata": {},
   "outputs": [
    {
     "data": {
      "image/png": "[encoded data removed]",
      "text/plain": [
       "<Figure size 432x288 with 1 Axes>"
      ]
     },
     "metadata": {
      "needs_background": "light"
     },
     "output_type": "display_data"
    }
   ],
   "source": [
    "#standard_gamma([size])\n",
    "#This function is used to draw sample from a standard Gamma distribution.\n",
    "import numpy as np  \n",
    "shape, scale = 2., 1.  \n",
    "s1 = np.random.standard_gamma(shape, 1000000)  \n",
    "import matplotlib.pyplot as plt  \n",
    "import scipy.special as sps  \n",
    "count1, bins1, ignored1 = plt.hist(s, 50, density=True)  \n",
    "y = bins1**(shape-1) * ((np.exp(-bins1/scale))/ (sps.gamma(shape) * scale**shape))  \n",
    "plt.plot(bins1, y, linewidth=2, color='r')  \n",
    "plt.show()  "
   ]
  },
  {
   "cell_type": "code",
   "execution_count": null,
   "metadata": {},
   "outputs": [],
   "source": []
  }
 ],
 "metadata": {
  "kernelspec": {
   "display_name": "Python 3",
   "language": "python",
   "name": "python3"
  },
  "language_info": {
   "codemirror_mode": {
    "name": "ipython",
    "version": 3
   },
   "file_extension": ".py",
   "mimetype": "text/x-python",
   "name": "python",
   "nbconvert_exporter": "python",
   "pygments_lexer": "ipython3",
   "version": "3.8.3"
  }
 },
 "nbformat": 4,
 "nbformat_minor": 4
}
