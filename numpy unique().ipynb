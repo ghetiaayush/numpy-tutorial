{
 "cells": [
  {
   "cell_type": "code",
   "execution_count": 1,
   "metadata": {},
   "outputs": [
    {
     "data": {
      "text/plain": [
       "array([1, 2, 3, 4, 6])"
      ]
     },
     "execution_count": 1,
     "metadata": {},
     "output_type": "execute_result"
    }
   ],
   "source": [
    "#example 1:\n",
    "import numpy as np  \n",
    "a=np.unique([1,2,3,4,3,6,2,4])  \n",
    "a  "
   ]
  },
  {
   "cell_type": "code",
   "execution_count": 2,
   "metadata": {},
   "outputs": [
    {
     "data": {
      "text/plain": [
       "(array([[1, 2, 2, 3, 9],\n",
       "        [1, 4, 3, 5, 8]]),\n",
       " array([1, 2, 3, 4, 5, 8, 9]))"
      ]
     },
     "execution_count": 2,
     "metadata": {},
     "output_type": "execute_result"
    }
   ],
   "source": [
    "#example 2:\n",
    "a=np.array([[1,2,2,3,9],[1,4,3,5,8]])  \n",
    "b=np.unique(a)  \n",
    "a, b  "
   ]
  },
  {
   "cell_type": "code",
   "execution_count": 3,
   "metadata": {},
   "outputs": [
    {
     "data": {
      "text/plain": [
       "(array([[1, 1, 0],\n",
       "        [1, 1, 0],\n",
       "        [2, 3, 4],\n",
       "        [5, 9, 8],\n",
       "        [2, 3, 4]]),\n",
       " array([[1, 1, 0],\n",
       "        [2, 3, 4],\n",
       "        [5, 9, 8]]))"
      ]
     },
     "execution_count": 3,
     "metadata": {},
     "output_type": "execute_result"
    }
   ],
   "source": [
    "#example 3:\n",
    "import numpy as np  \n",
    "a = np.array([[1, 1, 0], [1, 1, 0], [2, 3, 4],[5, 9, 8],[2, 3, 4]])  \n",
    "b=np.unique(a, axis=0)  \n",
    "a, b  "
   ]
  },
  {
   "cell_type": "code",
   "execution_count": 5,
   "metadata": {},
   "outputs": [
    {
     "data": {
      "text/plain": [
       "(array([[1, 1, 0],\n",
       "        [1, 1, 0],\n",
       "        [2, 2, 4],\n",
       "        [5, 5, 8],\n",
       "        [2, 2, 4]]),\n",
       " array([[0, 1],\n",
       "        [0, 1],\n",
       "        [4, 2],\n",
       "        [8, 5],\n",
       "        [4, 2]]))"
      ]
     },
     "execution_count": 5,
     "metadata": {},
     "output_type": "execute_result"
    }
   ],
   "source": [
    "#example 4:\n",
    "import numpy as np  \n",
    "a = np.array([[1, 1, 0], [1, 1, 0], [2, 2, 4],[5, 5, 8],[2, 2, 4]])  \n",
    "b=np.unique(a, axis=1)  \n",
    "a, b  \n",
    "# Note: When we set axis as 1 then this function returns the unique columns from the source array."
   ]
  },
  {
   "cell_type": "code",
   "execution_count": 8,
   "metadata": {},
   "outputs": [
    {
     "data": {
      "text/plain": [
       "(array(['a', 'b', 'd', 'z'], dtype='<U1'),\n",
       " array([4, 1, 0, 3], dtype=int64),\n",
       " array(['a', 'b', 'd', 'z'], dtype='<U1'))"
      ]
     },
     "execution_count": 8,
     "metadata": {},
     "output_type": "execute_result"
    }
   ],
   "source": [
    "#example 5: Use return_index\n",
    "import numpy as np  \n",
    "a = np.array(['d', 'b', 'b', 'z', 'a'])  \n",
    "result, indices=np.unique(a,return_index=True)  \n",
    "result, indices, a[indices] "
   ]
  },
  {
   "cell_type": "code",
   "execution_count": 9,
   "metadata": {},
   "outputs": [
    {
     "data": {
      "text/plain": [
       "(array([1, 2, 3, 4, 5, 6]),\n",
       " array([0, 1, 5, 3, 4, 2, 1], dtype=int64),\n",
       " array([1, 2, 3, 4, 5, 6, 2]))"
      ]
     },
     "execution_count": 9,
     "metadata": {},
     "output_type": "execute_result"
    }
   ],
   "source": [
    "#example 6: Use return_inverse We can reconstruct the input array from the unique values in the following way:\n",
    "import numpy as np  \n",
    "a = np.array([1, 2, 6, 4, 5, 3, 2])  \n",
    "result, indices=np.unique(a,return_inverse=True)  \n",
    "result, indices, a[indices]  "
   ]
  },
  {
   "cell_type": "code",
   "execution_count": null,
   "metadata": {},
   "outputs": [],
   "source": []
  }
 ],
 "metadata": {
  "kernelspec": {
   "display_name": "Python 3",
   "language": "python",
   "name": "python3"
  },
  "language_info": {
   "codemirror_mode": {
    "name": "ipython",
    "version": 3
   },
   "file_extension": ".py",
   "mimetype": "text/x-python",
   "name": "python",
   "nbconvert_exporter": "python",
   "pygments_lexer": "ipython3",
   "version": "3.8.3"
  }
 },
 "nbformat": 4,
 "nbformat_minor": 4
}
