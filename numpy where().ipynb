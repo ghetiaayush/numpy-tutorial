{
 "cells": [
  {
   "cell_type": "code",
   "execution_count": 1,
   "metadata": {},
   "outputs": [
    {
     "data": {
      "text/plain": [
       "array([ 0,  1,  2,  3,  4,  5, 30, 35, 40, 45, 50, 55])"
      ]
     },
     "execution_count": 1,
     "metadata": {},
     "output_type": "execute_result"
    }
   ],
   "source": [
    "#example 1: np.where()\n",
    "#This function returns the array with elements from x where the condition is True and elements from y elsewhere.\n",
    "import numpy as np  \n",
    "a=np.arange(12)  \n",
    "b=np.where(a<6,a,5*a)  \n",
    "b  "
   ]
  },
  {
   "cell_type": "code",
   "execution_count": 2,
   "metadata": {},
   "outputs": [
    {
     "data": {
      "text/plain": [
       "array([[1, 8],\n",
       "       [3, 4]])"
      ]
     },
     "execution_count": 2,
     "metadata": {},
     "output_type": "execute_result"
    }
   ],
   "source": [
    "#example 2: For multidimensional array\n",
    "import numpy as np  \n",
    "a=np.arange(12)  \n",
    "b=np.where([[True, False], [True, True]],[[1, 2], [3, 4]],[[9, 8], [7, 6]])  \n",
    "b  "
   ]
  },
  {
   "cell_type": "code",
   "execution_count": 3,
   "metadata": {},
   "outputs": [
    {
     "data": {
      "text/plain": [
       "array([[10, 11, 12, 13],\n",
       "       [ 1, 11, 12, 13],\n",
       "       [ 2,  2, 12, 13]])"
      ]
     },
     "execution_count": 3,
     "metadata": {},
     "output_type": "execute_result"
    }
   ],
   "source": [
    "#example 3: Broadcasting x, y, and condition\n",
    "import numpy as np  \n",
    "x, y = np.ogrid[:3, :4]  \n",
    "a=np.where(x > y, x, 10 + y)  \n",
    "a  "
   ]
  },
  {
   "cell_type": "code",
   "execution_count": 4,
   "metadata": {},
   "outputs": [
    {
     "data": {
      "text/plain": [
       "array([[ 0,  1,  2],\n",
       "       [ 0,  2, -2],\n",
       "       [ 0, -2, -2]])"
      ]
     },
     "execution_count": 4,
     "metadata": {},
     "output_type": "execute_result"
    }
   ],
   "source": [
    "#example 4: Broadcasting specific value\n",
    "import numpy as np\n",
    "x=np.array([[0,1,2],[0,2,5],[0,4,8]])  \n",
    "y=np.where(x<4,x,-2)  \n",
    "y  "
   ]
  }
 ],
 "metadata": {
  "kernelspec": {
   "display_name": "Python 3",
   "language": "python",
   "name": "python3"
  },
  "language_info": {
   "codemirror_mode": {
    "name": "ipython",
    "version": 3
   },
   "file_extension": ".py",
   "mimetype": "text/x-python",
   "name": "python",
   "nbconvert_exporter": "python",
   "pygments_lexer": "ipython3",
   "version": "3.8.3"
  }
 },
 "nbformat": 4,
 "nbformat_minor": 4
}
