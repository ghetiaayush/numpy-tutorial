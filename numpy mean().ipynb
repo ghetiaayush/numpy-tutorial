{
 "cells": [
  {
   "cell_type": "code",
   "execution_count": 2,
   "metadata": {},
   "outputs": [
    {
     "data": {
      "text/plain": [
       "(2.5, 13.0)"
      ]
     },
     "execution_count": 2,
     "metadata": {},
     "output_type": "execute_result"
    }
   ],
   "source": [
    "#example 1:\n",
    "import numpy as np  \n",
    "a = np.array([[1, 2], [3, 4]])  \n",
    "b=np.mean(a)  \n",
    "b  \n",
    "x = np.array([[5, 6], [7, 34]])  \n",
    "y=np.mean(x)  \n",
    "b, y  "
   ]
  },
  {
   "cell_type": "code",
   "execution_count": 3,
   "metadata": {},
   "outputs": [
    {
     "data": {
      "text/plain": [
       "(array([2.5, 4.5]), array([3., 4.]))"
      ]
     },
     "execution_count": 3,
     "metadata": {},
     "output_type": "execute_result"
    }
   ],
   "source": [
    "#example 2:\n",
    "import numpy as np  \n",
    "a = np.array([[2, 4], [3, 5]])  \n",
    "b=np.mean(a,axis=0)  \n",
    "c=np.mean(a,axis=1)  \n",
    "b, c  "
   ]
  },
  {
   "cell_type": "code",
   "execution_count": 4,
   "metadata": {},
   "outputs": [
    {
     "data": {
      "text/plain": [
       "27.5"
      ]
     },
     "execution_count": 4,
     "metadata": {},
     "output_type": "execute_result"
    }
   ],
   "source": [
    "#example 3: In single precision, mean can be inaccurate:\n",
    "import numpy as np  \n",
    "a = np.zeros((2, 512*512), dtype=np.float32)  \n",
    "a[0, :] = 23.0  \n",
    "a[1, :] = 32.0  \n",
    "c=np.mean(a)  \n",
    "c  "
   ]
  },
  {
   "cell_type": "code",
   "execution_count": 5,
   "metadata": {},
   "outputs": [
    {
     "data": {
      "text/plain": [
       "(1.0999985, 1.1000000014901161)"
      ]
     },
     "execution_count": 5,
     "metadata": {},
     "output_type": "execute_result"
    }
   ],
   "source": [
    "#example 4: Computing the mean in float64 is more accurate:\n",
    "import numpy as np  \n",
    "a[0, :] = 2.0  \n",
    "a[1, :] = 0.2  \n",
    "c=np.mean(a)  \n",
    "d=np.mean(a, dtype=np.float64)  \n",
    "c, d  "
   ]
  }
 ],
 "metadata": {
  "kernelspec": {
   "display_name": "Python 3",
   "language": "python",
   "name": "python3"
  },
  "language_info": {
   "codemirror_mode": {
    "name": "ipython",
    "version": 3
   },
   "file_extension": ".py",
   "mimetype": "text/x-python",
   "name": "python",
   "nbconvert_exporter": "python",
   "pygments_lexer": "ipython3",
   "version": "3.8.3"
  }
 },
 "nbformat": 4,
 "nbformat_minor": 4
}
